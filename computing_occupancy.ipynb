{
 "cells": [
  {
   "cell_type": "markdown",
   "metadata": {},
   "source": [
    "Computing occupancy\n",
    "====="
   ]
  },
  {
   "cell_type": "markdown",
   "metadata": {},
   "source": [
    "Import blockpartyrfid and other useful modules."
   ]
  },
  {
   "cell_type": "code",
   "execution_count": null,
   "metadata": {},
   "outputs": [],
   "source": [
    "%pylab inline\n",
    "\n",
    "import blockpartyrfid\n",
    "import numpy\n",
    "import pylab"
   ]
  },
  {
   "cell_type": "markdown",
   "metadata": {},
   "source": [
    "Load in data from log directory (that contains event .csvs)"
   ]
  },
  {
   "cell_type": "code",
   "execution_count": null,
   "metadata": {
    "collapsed": true
   },
   "outputs": [],
   "source": [
    "data_directory = '180131'\n",
    "data = blockpartyrfid.io.load_log_directory(data_directory)"
   ]
  },
  {
   "cell_type": "markdown",
   "metadata": {},
   "source": [
    "Event data will import as a 5 column array of:\n",
    "\n",
    "- timestamp in milliseconds\n",
    "- board number (starting at 0)\n",
    "- event code (0: rfid, 1: beam, 2: touch, 3: time sync)\n",
    "- data 0\n",
    "- data 1"
   ]
  },
  {
   "cell_type": "code",
   "execution_count": null,
   "metadata": {},
   "outputs": [],
   "source": [
    "print(data[:5])"
   ]
  },
  {
   "cell_type": "markdown",
   "metadata": {},
   "source": [
    "Data can be filtered using db.sel"
   ]
  },
  {
   "cell_type": "code",
   "execution_count": null,
   "metadata": {},
   "outputs": [],
   "source": [
    "rfid_data = blockpartyrfid.db.sel(data, event='rfid', data1=0)\n",
    "print(\"N rfid events: %s\" % len(rfid_data))"
   ]
  },
  {
   "cell_type": "markdown",
   "metadata": {},
   "source": [
    "and grouped using db.split_events"
   ]
  },
  {
   "cell_type": "code",
   "execution_count": null,
   "metadata": {
    "collapsed": true
   },
   "outputs": [],
   "source": [
    "animal_data = blockpartyrfid.db.split_events(rfid_data, board=False, event=False, data0=True, data1=False)"
   ]
  },
  {
   "cell_type": "code",
   "execution_count": null,
   "metadata": {},
   "outputs": [],
   "source": [
    "# remove test tag reads, < N reads\n",
    "minimum_rfid_reads = 100\n",
    "for a in list(animal_data.keys())[:]:\n",
    "    print(\"Animal %s[%s]: %i reads\" % (hex(a), a, len(animal_data[a])))\n",
    "    if len(animal_data[a]) < minimum_rfid_reads:\n",
    "        print(\"Removing test tag: %s\" % hex(a))\n",
    "        del animal_data[a]\n",
    "boards = blockpartyrfid.db.all_boards(data)\n",
    "animals = list(animal_data.keys())\n",
    "print(\"Boards[%s]: %s\" % (len(boards), boards, ))\n",
    "print(\"Animals[%s]: %s\" % (len(animals), [hex(a) for a in animals], ))"
   ]
  },
  {
   "cell_type": "markdown",
   "metadata": {},
   "source": [
    "As rfid tags now create multiple reads when in front of the reader, sequential tag reads within some threshold should be merged."
   ]
  },
  {
   "cell_type": "code",
   "execution_count": null,
   "metadata": {},
   "outputs": [],
   "source": [
    "rfid_merge_threshold = None  # set this to None to try and auto-calculate the threshold\n",
    "\n",
    "if rfid_merge_threshold is None:\n",
    "    rfid_merge_threshold = numpy.inf\n",
    "    for a in animals:\n",
    "        # find dt for sequential tag reads from 2 different tubes\n",
    "        cbinds = numpy.where(numpy.diff(animal_data[a][:, 1]) != 0)[0]\n",
    "        cbdt = animal_data[a][cbinds + 1, 0] - animal_data[a][cbinds, 0]\n",
    "\n",
    "        # find dt for sequential tag reads from same board\n",
    "        #wbdt = numpy.diff(ad[a][:-1][numpy.diff(ad[a][:, 1]) == 0, 0])\n",
    "\n",
    "        rfid_merge_threshold = min(rfid_merge_threshold, cbdt.min())\n",
    "\n",
    "print(\"Merging rfid reads within %s ms\" % rfid_merge_threshold)"
   ]
  },
  {
   "cell_type": "code",
   "execution_count": null,
   "metadata": {
    "collapsed": true
   },
   "outputs": [],
   "source": [
    "rfid_reads = {}\n",
    "raw_sequences = {}\n",
    "sequences = {}\n",
    "occupancy = {}\n",
    "\n",
    "for a in animals:\n",
    "    # merge close rfid reads\n",
    "    rfid_reads[a] = blockpartyrfid.db.merge_close_reads(animal_data[a], rfid_merge_threshold)\n",
    "    \n",
    "    # convert rfid reads to sequences, assuming a read = a traversal through the tube\n",
    "    raw_sequences[a] = blockpartyrfid.occupancy.from_tube_sequence(rfid_reads[a])\n",
    "    \n",
    "    # combine all sequences, keeping where they agree\n",
    "    sequences[a] = blockpartyrfid.occupancy.merge_sequences(raw_sequences[a])\n",
    "    \n",
    "    # convert from the sequence structure into occupancy\n",
    "    occupancy[a] = blockpartyrfid.occupancy.merged_sequence_to_occupancy(sequences[a][0], rfid_reads[a])"
   ]
  },
  {
   "cell_type": "markdown",
   "metadata": {},
   "source": [
    "When an animal moves through 2 tubes (e.g. 1 then 2) we can infer the animal was in cage 1 between \n",
    "these reads (this is a 'start' point). If we then assume that every rfid read is a traversal \n",
    "through the tube (and not a poke into the tube) then we can try to predict the location of the \n",
    "animal before and after the 'start'. This is all performed in blockpartyrfid.occupancy.from_tube_sequence\n",
    "\n",
    "We can check if this chain appears correct when it reaches the next 'start' point giving an indication of\n",
    "the reliability of this method (how many chains succeeded vs failed to predict the next event). This\n",
    "is performed in blockpartyrfid.occupancy.merge_sequences"
   ]
  },
  {
   "cell_type": "code",
   "execution_count": null,
   "metadata": {},
   "outputs": [],
   "source": [
    "for a in animals:\n",
    "    print(\"For animal %s, %0.2f%% sequences predicted the next event\" % (hex(a), sequences[a][1] * 100))"
   ]
  },
  {
   "cell_type": "code",
   "execution_count": null,
   "metadata": {},
   "outputs": [],
   "source": [
    "blockpartyrfid.vis.plot_sequence_chain(raw_sequences[a], chain_offset=len(boards) + 1)"
   ]
  },
  {
   "cell_type": "code",
   "execution_count": null,
   "metadata": {
    "collapsed": true
   },
   "outputs": [],
   "source": [
    "# merge per-animal occupancies\n",
    "o = blockpartyrfid.occupancy.merge_occupancies(occupancy.values())\n",
    "\n",
    "# save as a .csv file\n",
    "output_filename = 'occupancy.csv'\n",
    "numpy.savetxt(output_filename, o, delimiter=',')"
   ]
  },
  {
   "cell_type": "code",
   "execution_count": null,
   "metadata": {},
   "outputs": [],
   "source": [
    "# show time in cage\n",
    "pylab.figure(figsize=(14, 3))\n",
    "blockpartyrfid.vis.plot_time_in_cage(o)"
   ]
  },
  {
   "cell_type": "markdown",
   "metadata": {},
   "source": [
    "Plotting the sequence chains (each offset in y by the number of cages) and looking at the number and \n",
    "and location of discrete blocks gives an indication of where the chains 'break'\n",
    "(areas between blocks are failures to predict the animals location)."
   ]
  },
  {
   "cell_type": "code",
   "execution_count": null,
   "metadata": {},
   "outputs": [],
   "source": [
    "pylab.figure(figsize=(14, 4))\n",
    "blockpartyrfid.vis.plot_occupancy(o[-1000:])"
   ]
  },
  {
   "cell_type": "code",
   "execution_count": null,
   "metadata": {},
   "outputs": [],
   "source": [
    "maes = blockpartyrfid.occupancy.find_multi_animal_events(rfid_reads, rfid_merge_threshold)\n",
    "cm, cm_animals = blockpartyrfid.occupancy.generate_chase_matrix(maes)"
   ]
  },
  {
   "cell_type": "code",
   "execution_count": null,
   "metadata": {},
   "outputs": [],
   "source": [
    "pylab.figure(figsize=(14, 14))\n",
    "blockpartyrfid.vis.plot_chase_matrix(cm, cm_animals)"
   ]
  }
 ],
 "metadata": {
  "kernelspec": {
   "display_name": "Python 3",
   "language": "python",
   "name": "python3"
  },
  "language_info": {
   "codemirror_mode": {
    "name": "ipython",
    "version": 3
   },
   "file_extension": ".py",
   "mimetype": "text/x-python",
   "name": "python",
   "nbconvert_exporter": "python",
   "pygments_lexer": "ipython3",
   "version": "3.6.1"
  }
 },
 "nbformat": 4,
 "nbformat_minor": 1
}
